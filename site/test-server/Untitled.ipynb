{
 "cells": [
  {
   "cell_type": "code",
   "execution_count": 1,
   "metadata": {},
   "outputs": [],
   "source": [
    "import requests as r"
   ]
  },
  {
   "cell_type": "code",
   "execution_count": 14,
   "metadata": {},
   "outputs": [],
   "source": [
    "res = r.put('https://cij9tkq6sk.execute-api.us-east-1.amazonaws.com/prod/visitor', {})"
   ]
  },
  {
   "cell_type": "code",
   "execution_count": 15,
   "metadata": {},
   "outputs": [
    {
     "data": {
      "text/plain": [
       "{'message': 'Missing Authentication Token'}"
      ]
     },
     "execution_count": 15,
     "metadata": {},
     "output_type": "execute_result"
    }
   ],
   "source": [
    "res.json()"
   ]
  },
  {
   "cell_type": "code",
   "execution_count": 16,
   "metadata": {},
   "outputs": [],
   "source": [
    "res = r.post('https://cij9tkq6sk.execute-api.us-east-1.amazonaws.com/prod/visitor', {})"
   ]
  },
  {
   "cell_type": "code",
   "execution_count": 17,
   "metadata": {},
   "outputs": [],
   "source": [
    "import yaml"
   ]
  },
  {
   "cell_type": "code",
   "execution_count": 28,
   "metadata": {},
   "outputs": [],
   "source": [
    "with open('data/visitors.yaml') as f:\n",
    "    data = yaml.safe_load(f)"
   ]
  },
  {
   "cell_type": "code",
   "execution_count": 30,
   "metadata": {},
   "outputs": [
    {
     "data": {
      "text/plain": [
       "[{'visitor_id': 'kjsdu092',\n",
       "  'major': 'Criminal Justice',\n",
       "  'degree': 'Masters',\n",
       "  'first_name': 'Love',\n",
       "  'last_name': 'Quinn',\n",
       "  'hardware_id': '1549209',\n",
       "  'college': 'College of Behavioral, Social, and Health Sciences'},\n",
       " {'visitor_id': 'bkji893',\n",
       "  'major': 'Forensic Science',\n",
       "  'degree': 'Masters',\n",
       "  'first_name': 'Ellie',\n",
       "  'last_name': 'Alves',\n",
       "  'hardware_id': '16390238',\n",
       "  'college': 'College of Science'},\n",
       " {'visitor_id': 'afhisdh930',\n",
       "  'major': 'Business Management',\n",
       "  'degree': 'B.S.',\n",
       "  'first_name': 'Delilah',\n",
       "  'last_name': 'Alves',\n",
       "  'hardware_id': '7819837',\n",
       "  'college': 'College of Business'},\n",
       " {'visitor_id': 'jhf83uie',\n",
       "  'major': 'Secondary Education',\n",
       "  'degree': 'B.S.',\n",
       "  'first_name': 'Peach',\n",
       "  'last_name': 'Salinger',\n",
       "  'hardware_id': '9377930',\n",
       "  'college': 'College of Education'},\n",
       " {'visitor_id': 'habci983',\n",
       "  'major': 'Psychology',\n",
       "  'degree': 'Masters',\n",
       "  'first_name': 'Joe',\n",
       "  'last_name': 'Goldberg',\n",
       "  'hardware_id': '5280020',\n",
       "  'college': 'College of Behavioral, Social, and Health Sciences'},\n",
       " {'visitor_id': 'ywu9201g',\n",
       "  'major': 'Marketing',\n",
       "  'degree': 'B.S.',\n",
       "  'first_name': 'Forty',\n",
       "  'last_name': 'Quinn',\n",
       "  'hardware_id': '41830476',\n",
       "  'college': 'College of Business'},\n",
       " {'visitor_id': 'qodi9200sd',\n",
       "  'major': 'Nursing',\n",
       "  'degree': 'B.S.',\n",
       "  'first_name': 'Candace',\n",
       "  'last_name': 'Stone',\n",
       "  'hardware_id': '0183984',\n",
       "  'college': 'College of Behavioral, Social, and Health Sciences'},\n",
       " {'visitor_id': 'ihs9832',\n",
       "  'major': 'Secondary Education',\n",
       "  'degree': 'B.S.',\n",
       "  'first_name': 'Annika',\n",
       "  'last_name': 'Atwater',\n",
       "  'hardware_id': '4964019',\n",
       "  'college': 'College of Education'},\n",
       " {'visitor_id': 'iub983sd',\n",
       "  'major': 'Genetics',\n",
       "  'degree': 'Masters',\n",
       "  'first_name': 'Dottie',\n",
       "  'last_name': 'Quinn',\n",
       "  'hardware_id': '5280472',\n",
       "  'college': 'College of Science'},\n",
       " {'visitor_id': 'agsah82037',\n",
       "  'major': 'Computer Science',\n",
       "  'degree': 'B.S.',\n",
       "  'first_name': 'Gabe',\n",
       "  'last_name': 'Miranda',\n",
       "  'hardware_id': '6921193',\n",
       "  'college': 'College of Engineering, Computing, and Applied Sciences'},\n",
       " {'visitor_id': 'klai20378',\n",
       "  'major': 'Biology',\n",
       "  'degree': 'Masters',\n",
       "  'first_name': 'Karen',\n",
       "  'last_name': 'Minty',\n",
       "  'hardware_id': '891739',\n",
       "  'college': 'College of Science'},\n",
       " {'visitor_id': 'basu398',\n",
       "  'major': 'Finance',\n",
       "  'degree': 'B.S.',\n",
       "  'first_name': 'Lucy',\n",
       "  'last_name': 'Sprecher',\n",
       "  'hardware_id': '0192783',\n",
       "  'college': 'College of Business'},\n",
       " {'visitor_id': 'hndbri298',\n",
       "  'major': 'Biology',\n",
       "  'degree': 'Masters',\n",
       "  'first_name': 'Roger',\n",
       "  'last_name': 'Stevens',\n",
       "  'hardware_id': '79782032',\n",
       "  'college': 'College of Science'},\n",
       " {'visitor_id': 'hais839j2',\n",
       "  'major': 'Finance',\n",
       "  'degree': 'Masters',\n",
       "  'first_name': 'David',\n",
       "  'last_name': 'Fincher',\n",
       "  'hardware_id': '5418739',\n",
       "  'college': 'College of Business'},\n",
       " {'visitor_id': 'jugsd9839',\n",
       "  'major': 'Finance',\n",
       "  'degree': 'B.S.',\n",
       "  'first_name': 'Will',\n",
       "  'last_name': 'Bettelheim',\n",
       "  'hardware_id': '58293979',\n",
       "  'college': 'College of Business'}]"
      ]
     },
     "execution_count": 30,
     "metadata": {},
     "output_type": "execute_result"
    }
   ],
   "source": [
    "data['visitors']"
   ]
  },
  {
   "cell_type": "code",
   "execution_count": null,
   "metadata": {},
   "outputs": [],
   "source": []
  }
 ],
 "metadata": {
  "kernelspec": {
   "display_name": "Python 3",
   "language": "python",
   "name": "python3"
  },
  "language_info": {
   "codemirror_mode": {
    "name": "ipython",
    "version": 3
   },
   "file_extension": ".py",
   "mimetype": "text/x-python",
   "name": "python",
   "nbconvert_exporter": "python",
   "pygments_lexer": "ipython3",
   "version": "3.7.9"
  }
 },
 "nbformat": 4,
 "nbformat_minor": 4
}
