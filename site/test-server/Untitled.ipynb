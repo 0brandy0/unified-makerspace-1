{
 "cells": [
  {
   "cell_type": "code",
   "execution_count": 1,
   "metadata": {},
   "outputs": [],
   "source": [
    "import requests as r"
   ]
  },
  {
   "cell_type": "code",
   "execution_count": 14,
   "metadata": {},
   "outputs": [],
   "source": [
    "res = r.put('https://cij9tkq6sk.execute-api.us-east-1.amazonaws.com/prod/visitor', {})"
   ]
  },
  {
   "cell_type": "code",
   "execution_count": 15,
   "metadata": {},
   "outputs": [
    {
     "data": {
      "text/plain": [
       "{'message': 'Missing Authentication Token'}"
      ]
     },
     "execution_count": 15,
     "metadata": {},
     "output_type": "execute_result"
    }
   ],
   "source": [
    "res.json()"
   ]
  },
  {
   "cell_type": "code",
   "execution_count": 16,
   "metadata": {},
   "outputs": [],
   "source": [
    "res = r.post('https://cij9tkq6sk.execute-api.us-east-1.amazonaws.com/prod/visitor', {})"
   ]
  },
  {
   "cell_type": "code",
   "execution_count": 17,
   "metadata": {},
   "outputs": [],
   "source": [
    "import yaml"
   ]
  },
  {
   "cell_type": "code",
   "execution_count": 20,
   "metadata": {},
   "outputs": [],
   "source": [
    "with open('data/visitors.yaml') as f:\n",
    "    data = yaml.safe_load(f)"
   ]
  },
  {
   "cell_type": "code",
   "execution_count": 21,
   "metadata": {},
   "outputs": [
    {
     "data": {
      "text/plain": [
       "{'visitors': [{'visitor_id': '1',\n",
       "   'major': 'Computer Science',\n",
       "   'degree': 'Masters',\n",
       "   'first_name': 'Love',\n",
       "   'last_name': 'Quinn',\n",
       "   'college': 'Hogwarts',\n",
       "   'hardware_id': '000000'},\n",
       "  {'visitor_id': '2',\n",
       "   'major': 'Chemistry',\n",
       "   'degree': 'Phd',\n",
       "   'first_name': 'Delilah',\n",
       "   'last_name': 'Alves',\n",
       "   'college': 'Hogwarts',\n",
       "   'hardware_id': '000000'},\n",
       "  {'visitor_id': '3',\n",
       "   'major': 'Literature',\n",
       "   'degree': 'B.S',\n",
       "   'first_name': 'Candace',\n",
       "   'last_name': 'Stone',\n",
       "   'college': 'Hogwarts',\n",
       "   'hardware_id': '000000'},\n",
       "  {'visitor_id': '4',\n",
       "   'major': 'Chemistry',\n",
       "   'degree': 'B.A',\n",
       "   'first_name': 'Delilah',\n",
       "   'last_name': 'Alves',\n",
       "   'college': 'Hogwarts',\n",
       "   'hardware_id': '000000'}]}"
      ]
     },
     "execution_count": 21,
     "metadata": {},
     "output_type": "execute_result"
    }
   ],
   "source": [
    "data"
   ]
  },
  {
   "cell_type": "code",
   "execution_count": null,
   "metadata": {},
   "outputs": [],
   "source": []
  }
 ],
 "metadata": {
  "kernelspec": {
   "display_name": "Python 3",
   "language": "python",
   "name": "python3"
  },
  "language_info": {
   "codemirror_mode": {
    "name": "ipython",
    "version": 3
   },
   "file_extension": ".py",
   "mimetype": "text/x-python",
   "name": "python",
   "nbconvert_exporter": "python",
   "pygments_lexer": "ipython3",
   "version": "3.7.9"
  }
 },
 "nbformat": 4,
 "nbformat_minor": 4
}
